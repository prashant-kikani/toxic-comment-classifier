{
 "cells": [
  {
   "cell_type": "code",
   "execution_count": 14,
   "metadata": {},
   "outputs": [],
   "source": [
    "import pandas as pd\n",
    "from six.moves import cPickle\n",
    "from scipy.sparse import hstack"
   ]
  },
  {
   "cell_type": "code",
   "execution_count": 3,
   "metadata": {},
   "outputs": [],
   "source": [
    "classes = ['toxic', 'severe_toxic', 'obscene', 'threat', 'insult', 'identity_hate']"
   ]
  },
  {
   "cell_type": "code",
   "execution_count": 4,
   "metadata": {},
   "outputs": [],
   "source": [
    "models = []\n",
    "for i in classes:\n",
    "    with open(i + \"_model.pkl\", 'rb') as f:\n",
    "        models.append(cPickle.load(f))"
   ]
  },
  {
   "cell_type": "code",
   "execution_count": 10,
   "metadata": {},
   "outputs": [],
   "source": [
    "models = []\n",
    "for i in classes:\n",
    "    with open(i + \"_model.pkl\", 'rb') as f:\n",
    "        models.append(cPickle.load(f))with open(\"word_vectorizer.pkl\", 'rb') as f:\n",
    "    word = cPickle.load(f)"
   ]
  },
  {
   "cell_type": "code",
   "execution_count": 11,
   "metadata": {},
   "outputs": [],
   "source": [
    "with open(\"char_vectorizer.pkl\", 'rb') as f:\n",
    "    char = cPickle.load(f)"
   ]
  },
  {
   "cell_type": "code",
   "execution_count": 51,
   "metadata": {},
   "outputs": [
    {
     "name": "stdout",
     "output_type": "stream",
     "text": [
      "Probability of  toxic  is :  0.8813662498646477\n",
      "Probability of  severe_toxic  is :  0.015634021552594263\n",
      "Probability of  obscene  is :  0.4233871370477726\n",
      "Probability of  threat  is :  0.003014277509987864\n",
      "Probability of  insult  is :  0.8124758055355858\n",
      "Probability of  identity_hate  is :  0.009754780457633975\n"
     ]
    }
   ],
   "source": [
    "s = [\"you fool dumb basterds\"]\n",
    "wf = word.transform(s)\n",
    "cg = char.transform(s)\n",
    "\n",
    "traife = hstack([cg, wf])\n",
    "\n",
    "pred = []\n",
    "for i, c in enumerate(classes):\n",
    "    pred.append(models[i].predict_proba(traife)[:, 1])\n",
    "    \n",
    "for i, c in enumerate(classes):\n",
    "    print(\"Probability of \", c, \" is : \", pred[i][0])"
   ]
  },
  {
   "cell_type": "code",
   "execution_count": null,
   "metadata": {},
   "outputs": [],
   "source": []
  },
  {
   "cell_type": "code",
   "execution_count": null,
   "metadata": {},
   "outputs": [],
   "source": []
  },
  {
   "cell_type": "code",
   "execution_count": null,
   "metadata": {},
   "outputs": [],
   "source": []
  }
 ],
 "metadata": {
  "kernelspec": {
   "display_name": "Python 3",
   "language": "python",
   "name": "python3"
  },
  "language_info": {
   "codemirror_mode": {
    "name": "ipython",
    "version": 3
   },
   "file_extension": ".py",
   "mimetype": "text/x-python",
   "name": "python",
   "nbconvert_exporter": "python",
   "pygments_lexer": "ipython3",
   "version": "3.5.2"
  }
 },
 "nbformat": 4,
 "nbformat_minor": 2
}
